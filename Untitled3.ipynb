{
 "cells": [
  {
   "cell_type": "code",
   "execution_count": 2,
   "id": "076d9fa8",
   "metadata": {},
   "outputs": [],
   "source": [
    "import networkx as nx\n",
    "import scipy\n",
    "import numpy as np\n",
    "import time"
   ]
  },
  {
   "cell_type": "code",
   "execution_count": 1,
   "id": "66cdf638",
   "metadata": {},
   "outputs": [
    {
     "data": {
      "text/plain": [
       "65536"
      ]
     },
     "execution_count": 1,
     "metadata": {},
     "output_type": "execute_result"
    }
   ],
   "source": [
    "4**(11-3)"
   ]
  },
  {
   "cell_type": "code",
   "execution_count": 3,
   "id": "96a8085c",
   "metadata": {},
   "outputs": [
    {
     "data": {
      "text/plain": [
       "0.04223513603210449"
      ]
     },
     "execution_count": 3,
     "metadata": {},
     "output_type": "execute_result"
    }
   ],
   "source": [
    "0.75**11"
   ]
  },
  {
   "cell_type": "code",
   "execution_count": null,
   "id": "8645fd90",
   "metadata": {},
   "outputs": [],
   "source": [
    "start = time.time()\n",
    "n = 11\n",
    "A = scipy.sparse.random(25000, 25000, density=0.75**11, format='csr')\n",
    "A.data[:] = 1\n",
    "end = time.time()\n",
    "print(end - start)\n"
   ]
  },
  {
   "cell_type": "code",
   "execution_count": null,
   "id": "8ef88dae",
   "metadata": {},
   "outputs": [],
   "source": [
    "G = nx.from_scipy_sparse_array(A)"
   ]
  }
 ],
 "metadata": {
  "kernelspec": {
   "display_name": "QML2",
   "language": "python",
   "name": "qml2"
  },
  "language_info": {
   "codemirror_mode": {
    "name": "ipython",
    "version": 3
   },
   "file_extension": ".py",
   "mimetype": "text/x-python",
   "name": "python",
   "nbconvert_exporter": "python",
   "pygments_lexer": "ipython3",
   "version": "3.9.16"
  }
 },
 "nbformat": 4,
 "nbformat_minor": 5
}
