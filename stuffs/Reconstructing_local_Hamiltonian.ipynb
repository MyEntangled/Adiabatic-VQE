{
 "cells": [
  {
   "cell_type": "code",
   "execution_count": 1,
   "id": "a2188868",
   "metadata": {},
   "outputs": [],
   "source": [
    "import numpy as np\n",
    "import qiskit"
   ]
  },
  {
   "cell_type": "code",
   "execution_count": 2,
   "id": "51ae118d",
   "metadata": {},
   "outputs": [],
   "source": [
    "num_qubits = 5\n",
    "\n",
    "pauli_type = ['I','X','Y','Z']\n",
    "I = np.eye(2)\n",
    "X = np.array([[0,1+0.j],[1,0]])\n",
    "Y = np.array([[0,-1j],[1j,0]])\n",
    "Z = np.array([[1+0.j,0],[0,-1]])\n",
    "gate_dict = {'X': X, 'Y': Y, 'Z': Z}\n",
    "\n",
    "L_str_list = []\n",
    "L_mat_list = []\n",
    "\n",
    "# Single qubit op\n",
    "for n in range(num_qubits):\n",
    "    for pauli in ['X','Y','Z']:\n",
    "        L_str_list.append('I'*n + pauli + 'I'*(num_qubits-n-1))\n",
    "        mat = np.kron(np.kron(np.eye(2**n), gate_dict[pauli]), np.eye(2**(num_qubits-n-1)))\n",
    "        L_mat_list.append(mat)\n",
    "        \n",
    "# Two-local op\n",
    "for n in range(num_qubits):\n",
    "    for pauli1 in ['X','Y','Z']:\n",
    "        for pauli2 in ['X','Y','Z']:\n",
    "            gate_str = list('I'*num_qubits)\n",
    "            gate_str[n] = pauli1\n",
    "            gate_str[(n+1) % num_qubits] = pauli2\n",
    "            L_str_list.append(''.join(gate_str))\n",
    "            \n",
    "            if n != num_qubits - 1:\n",
    "                mat = np.kron(np.kron(np.kron(np.eye(2**n), gate_dict[pauli1]), gate_dict[pauli2]), np.eye(2**(num_qubits-n-2)))\n",
    "            else:\n",
    "                mat = np.kron(np.kron(gate_dict[pauli2], np.eye(2**(num_qubits - 2))), gate_dict[pauli1])\n",
    "            L_mat_list.append(mat)"
   ]
  },
  {
   "cell_type": "code",
   "execution_count": 3,
   "id": "5a177917",
   "metadata": {
    "scrolled": true
   },
   "outputs": [],
   "source": [
    "L_dict = dict(zip(L_str_list, L_mat_list))\n",
    "\n",
    "coeffs = np.random.rand(len(L_dict))\n",
    "norm = np.linalg.norm(coeffs)\n",
    "coeffs = coeffs / norm\n",
    "\n",
    "H = [(L_str, coeffs[i]) for i,L_str in enumerate(L_dict.keys())]\n",
    "\n",
    "H_mat = 0 + 0.j\n",
    "for H_comp,coeff in H:\n",
    "    H_mat += coeff * L_dict[H_comp]"
   ]
  },
  {
   "cell_type": "code",
   "execution_count": 4,
   "id": "dbdb5834",
   "metadata": {},
   "outputs": [
    {
     "name": "stdout",
     "output_type": "stream",
     "text": [
      "-1.6983110273752013\n"
     ]
    }
   ],
   "source": [
    "H_eigvals, H_eigvecs = np.linalg.eigh(H_mat)\n",
    "\n",
    "ground_energy = H_eigvals[0]\n",
    "v = H_eigvecs[:,0]\n",
    "\n",
    "print(ground_energy)"
   ]
  },
  {
   "cell_type": "code",
   "execution_count": 5,
   "id": "dc214078",
   "metadata": {},
   "outputs": [],
   "source": [
    "def correlation_matrix(L_dict, v):\n",
    "    m = len(L_dict)\n",
    "    M = np.zeros((m,m), dtype='complex128')\n",
    "    L_mean_list = np.array([v.conj().T @ L @ v for L in L_dict.values()])\n",
    "    \n",
    "    \n",
    "    for i, L_i in enumerate(L_dict.values()):\n",
    "        L_i_mean = L_mean_list[i]\n",
    "        \n",
    "        for j, L_j in enumerate(L_dict.values()):\n",
    "            if j >= i:\n",
    "                L_j_mean = L_mean_list[j]\n",
    "                anticom = L_i @ L_j + L_j @ L_i\n",
    "                anticom_mean = v.conj().T @ anticom @ v\n",
    "                M[i,j] = anticom_mean/2. - L_i_mean * L_j_mean\n",
    "            else:\n",
    "                M[i,j] = M[j,i]    \n",
    "    \n",
    "    return M"
   ]
  },
  {
   "cell_type": "code",
   "execution_count": 6,
   "id": "7d78eeb9",
   "metadata": {},
   "outputs": [
    {
     "name": "stdout",
     "output_type": "stream",
     "text": [
      "Number of small eigenvalues:  1\n",
      "Small eigenvalues:  [-5.97534592e-15]\n"
     ]
    }
   ],
   "source": [
    "M = correlation_matrix(L_dict, v)\n",
    "M_eigvals, M_eigvecs = np.linalg.eigh(M)\n",
    "\n",
    "## Note: M is positive semidefinite\n",
    "eps = 1e-8\n",
    "print('Number of small eigenvalues: ', (M_eigvals < eps).sum())\n",
    "print('Small eigenvalues: ', M_eigvals[M_eigvals < eps])\n",
    "\n",
    "H_recon = 0 + 0.0j\n",
    "for i,w in enumerate(M_eigvecs[:,0]):\n",
    "    H_recon += w * L_mat_list[i]"
   ]
  },
  {
   "cell_type": "code",
   "execution_count": 7,
   "id": "7add05e0",
   "metadata": {},
   "outputs": [
    {
     "data": {
      "text/plain": [
       "array([[ 0.96053759+0.j        ,  0.58066127-0.26044284j,\n",
       "         0.16567653-0.28336413j, ...,  0.        +0.j        ,\n",
       "         0.        +0.j        ,  0.        +0.j        ],\n",
       "       [ 0.58066127+0.26044284j,  0.49139192+0.j        ,\n",
       "         0.29304984-0.04898994j, ...,  0.        +0.j        ,\n",
       "         0.        +0.j        ,  0.        +0.j        ],\n",
       "       [ 0.16567653+0.28336413j,  0.29304984+0.04898994j,\n",
       "         0.14368897+0.j        , ...,  0.        +0.j        ,\n",
       "         0.        +0.j        ,  0.        +0.j        ],\n",
       "       ...,\n",
       "       [ 0.        +0.j        ,  0.        +0.j        ,\n",
       "         0.        +0.j        , ..., -0.11442464+0.j        ,\n",
       "         0.29304984-0.04898994j,  0.13002459+0.16795539j],\n",
       "       [ 0.        +0.j        ,  0.        +0.j        ,\n",
       "         0.        +0.j        , ...,  0.29304984+0.04898994j,\n",
       "         0.08034905+0.j        , -0.18736443+0.20644509j],\n",
       "       [ 0.        +0.j        ,  0.        +0.j        ,\n",
       "         0.        +0.j        , ...,  0.13002459-0.16795539j,\n",
       "        -0.18736443-0.20644509j,  0.41650498+0.j        ]])"
      ]
     },
     "execution_count": 7,
     "metadata": {},
     "output_type": "execute_result"
    }
   ],
   "source": [
    "H_mat"
   ]
  },
  {
   "cell_type": "code",
   "execution_count": 8,
   "id": "673b1c0e",
   "metadata": {},
   "outputs": [
    {
     "data": {
      "text/plain": [
       "array([[ 0.96053759+8.61357097e-13j,  0.58066127-2.60442840e-01j,\n",
       "         0.16567653-2.83364131e-01j, ...,  0.        +0.00000000e+00j,\n",
       "         0.        +0.00000000e+00j,  0.        +0.00000000e+00j],\n",
       "       [ 0.58066127+2.60442840e-01j,  0.49139192+5.04119292e-13j,\n",
       "         0.29304984-4.89899400e-02j, ...,  0.        +0.00000000e+00j,\n",
       "         0.        +0.00000000e+00j,  0.        +0.00000000e+00j],\n",
       "       [ 0.16567653+2.83364131e-01j,  0.29304984+4.89899400e-02j,\n",
       "         0.14368897-2.61822038e-13j, ...,  0.        +0.00000000e+00j,\n",
       "         0.        +0.00000000e+00j,  0.        +0.00000000e+00j],\n",
       "       ...,\n",
       "       [ 0.        +0.00000000e+00j,  0.        +0.00000000e+00j,\n",
       "         0.        +0.00000000e+00j, ..., -0.11442464-1.37038204e-13j,\n",
       "         0.29304984-4.89899400e-02j,  0.13002459+1.67955393e-01j],\n",
       "       [ 0.        +0.00000000e+00j,  0.        +0.00000000e+00j,\n",
       "         0.        +0.00000000e+00j, ...,  0.29304984+4.89899400e-02j,\n",
       "         0.08034905+3.91495880e-13j, -0.18736443+2.06445089e-01j],\n",
       "       [ 0.        +0.00000000e+00j,  0.        +0.00000000e+00j,\n",
       "         0.        +0.00000000e+00j, ...,  0.13002459-1.67955393e-01j,\n",
       "        -0.18736443-2.06445089e-01j,  0.41650498+7.10583782e-13j]])"
      ]
     },
     "execution_count": 8,
     "metadata": {},
     "output_type": "execute_result"
    }
   ],
   "source": [
    "H_recon"
   ]
  },
  {
   "cell_type": "code",
   "execution_count": 9,
   "id": "cb79016d",
   "metadata": {},
   "outputs": [],
   "source": [
    "rec_eigvals, rec_eigvecs = np.linalg.eigh(H_recon)"
   ]
  },
  {
   "cell_type": "code",
   "execution_count": 10,
   "id": "df68a543",
   "metadata": {},
   "outputs": [
    {
     "data": {
      "text/plain": [
       "array([-1.69831103, -1.58394874, -1.48706712, -1.35567132, -1.23965952,\n",
       "       -1.15012007, -1.02670666, -0.79702462, -0.7623722 , -0.55776998,\n",
       "       -0.53520235, -0.45080295, -0.20286308, -0.13696942, -0.0543655 ,\n",
       "        0.03603221,  0.11358719,  0.20377127,  0.2756023 ,  0.42961719,\n",
       "        0.46825192,  0.49175263,  0.56651968,  0.62087751,  0.67918538,\n",
       "        0.74403483,  0.83982964,  1.03734087,  1.13129602,  1.22768201,\n",
       "        1.45909794,  2.71437599])"
      ]
     },
     "execution_count": 10,
     "metadata": {},
     "output_type": "execute_result"
    }
   ],
   "source": [
    "H_eigvals"
   ]
  },
  {
   "cell_type": "code",
   "execution_count": 11,
   "id": "f466f3a3",
   "metadata": {},
   "outputs": [
    {
     "data": {
      "text/plain": [
       "array([-1.69831103, -1.58394874, -1.48706712, -1.35567132, -1.23965952,\n",
       "       -1.15012007, -1.02670666, -0.79702462, -0.7623722 , -0.55776998,\n",
       "       -0.53520235, -0.45080295, -0.20286308, -0.13696942, -0.0543655 ,\n",
       "        0.03603221,  0.11358719,  0.20377127,  0.2756023 ,  0.42961719,\n",
       "        0.46825192,  0.49175263,  0.56651968,  0.62087751,  0.67918538,\n",
       "        0.74403483,  0.83982964,  1.03734087,  1.13129602,  1.22768201,\n",
       "        1.45909794,  2.71437599])"
      ]
     },
     "execution_count": 11,
     "metadata": {},
     "output_type": "execute_result"
    }
   ],
   "source": [
    "rec_eigvals"
   ]
  }
 ],
 "metadata": {
  "kernelspec": {
   "display_name": "QML",
   "language": "python",
   "name": "qml"
  },
  "language_info": {
   "codemirror_mode": {
    "name": "ipython",
    "version": 3
   },
   "file_extension": ".py",
   "mimetype": "text/x-python",
   "name": "python",
   "nbconvert_exporter": "python",
   "pygments_lexer": "ipython3",
   "version": "3.7.7"
  }
 },
 "nbformat": 4,
 "nbformat_minor": 5
}
