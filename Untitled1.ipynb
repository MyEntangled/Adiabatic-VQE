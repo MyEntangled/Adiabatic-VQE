{
 "cells": [
  {
   "cell_type": "code",
   "execution_count": 1,
   "id": "b96ac28e",
   "metadata": {},
   "outputs": [],
   "source": [
    "import pennylane as qml\n",
    "from pennylane import numpy as np\n",
    "import matplotlib.pyplot as plt"
   ]
  },
  {
   "cell_type": "code",
   "execution_count": 13,
   "id": "85232fff",
   "metadata": {},
   "outputs": [],
   "source": [
    "# Set a seed for reproducibility\n",
    "np.random.seed(42)\n",
    "\n",
    "num_qubits = 4\n",
    "dev = qml.device(\"default.qubit\", wires=num_qubits)\n",
    "gate_set = [qml.RX, qml.RY, qml.RZ]\n",
    "\n",
    "\n",
    "def rand_circuit(params, random_gate_sequence=None, num_qubits=None):\n",
    "    \"\"\"A random variational quantum circuit.\n",
    "\n",
    "    Args:\n",
    "        params (array[float]): array of parameters\n",
    "        random_gate_sequence (dict): a dictionary of random gates\n",
    "        num_qubits (int): the number of qubits in the circuit\n",
    "\n",
    "    Returns:\n",
    "        float: the expectation value of the target observable\n",
    "    \"\"\"\n",
    "    for i in range(num_qubits):\n",
    "        qml.RY(np.pi / 4, wires=i)\n",
    "\n",
    "    for i in range(num_qubits):\n",
    "        random_gate_sequence[i](params[i], wires=i)\n",
    "\n",
    "    for i in range(num_qubits - 1):\n",
    "        qml.CZ(wires=[i, i + 1])\n",
    "\n",
    "    H = np.zeros((2 ** num_qubits, 2 ** num_qubits))\n",
    "    H[0, 0] = 1\n",
    "    wirelist = [i for i in range(num_qubits)]\n",
    "    return qml.expval(qml.Hermitian(H, wirelist))"
   ]
  },
  {
   "cell_type": "code",
   "execution_count": 10,
   "id": "e766c385",
   "metadata": {},
   "outputs": [
    {
     "data": {
      "text/plain": [
       "6"
      ]
     },
     "execution_count": 10,
     "metadata": {},
     "output_type": "execute_result"
    }
   ],
   "source": [
    "num_qubits"
   ]
  },
  {
   "cell_type": "code",
   "execution_count": 17,
   "id": "cd5babf3",
   "metadata": {},
   "outputs": [
    {
     "data": {
      "text/plain": [
       "tensor(0.03552381, requires_grad=True)"
      ]
     },
     "execution_count": 17,
     "metadata": {},
     "output_type": "execute_result"
    }
   ],
   "source": [
    "for _ in range()\n",
    "qcircuit = qml.QNode(rand_circuit, dev, interface=\"autograd\")\n",
    "qcircuit(params, random_gate_sequence=gate_sequence, num_qubits=num_qubits)"
   ]
  },
  {
   "cell_type": "code",
   "execution_count": 14,
   "id": "697477b7",
   "metadata": {},
   "outputs": [
    {
     "name": "stdout",
     "output_type": "stream",
     "text": [
      "Variance of the gradients for 200 random circuits: 0.0056815136930815045\n",
      "Mean of the gradients for 200 random circuits: -0.001000226897652134\n"
     ]
    }
   ],
   "source": [
    "grad_vals = []\n",
    "num_samples = 200\n",
    "\n",
    "for i in range(num_samples):\n",
    "    gate_sequence = {i: np.random.choice(gate_set) for i in range(num_qubits)}\n",
    "    qcircuit = qml.QNode(rand_circuit, dev, interface=\"autograd\")\n",
    "    grad = qml.grad(qcircuit, argnum=0)\n",
    "    params = np.random.uniform(0, 2 * np.pi, size=num_qubits)\n",
    "    gradient = grad(params, random_gate_sequence=gate_sequence, num_qubits=num_qubits)\n",
    "    grad_vals.append(gradient[-1])\n",
    "\n",
    "print(\"Variance of the gradients for {} random circuits: {}\".format(\n",
    "    num_samples, np.var(grad_vals)\n",
    "    )\n",
    ")\n",
    "print(\"Mean of the gradients for {} random circuits: {}\".format(\n",
    "    num_samples, np.mean(grad_vals)\n",
    "    )\n",
    ")"
   ]
  },
  {
   "cell_type": "code",
   "execution_count": 4,
   "id": "33f49463",
   "metadata": {},
   "outputs": [
    {
     "data": {
      "image/png": "[encoded data removed]",
      "text/plain": [
       "<Figure size 640x480 with 1 Axes>"
      ]
     },
     "metadata": {},
     "output_type": "display_data"
    }
   ],
   "source": [
    "qubits = [2, 3, 4, 5, 6]\n",
    "variances = []\n",
    "\n",
    "\n",
    "for num_qubits in qubits:\n",
    "    grad_vals = []\n",
    "    for i in range(num_samples):\n",
    "        dev = qml.device(\"default.qubit\", wires=num_qubits)\n",
    "        qcircuit = qml.QNode(rand_circuit, dev, interface=\"autograd\")\n",
    "        grad = qml.grad(qcircuit, argnum=0)\n",
    "\n",
    "        gate_set = [qml.RX, qml.RY, qml.RZ]\n",
    "        random_gate_sequence = {i: np.random.choice(gate_set) for i in range(num_qubits)}\n",
    "\n",
    "        params = np.random.uniform(0, np.pi, size=num_qubits)\n",
    "        gradient = grad(\n",
    "            params, random_gate_sequence=random_gate_sequence, num_qubits=num_qubits\n",
    "        )\n",
    "        grad_vals.append(gradient[-1])\n",
    "    variances.append(np.var(grad_vals))\n",
    "\n",
    "variances = np.array(variances)\n",
    "qubits = np.array(qubits)\n",
    "\n",
    "\n",
    "# Fit the semilog plot to a straight line\n",
    "p = np.polyfit(qubits, np.log(variances), 1)\n",
    "\n",
    "\n",
    "# Plot the straight line fit to the semilog\n",
    "plt.semilogy(qubits, variances, \"o\")\n",
    "plt.semilogy(qubits, np.exp(p[0] * qubits + p[1]), \"o-.\", label=\"Slope {:3.2f}\".format(p[0]))\n",
    "plt.xlabel(r\"N Qubits\")\n",
    "plt.ylabel(r\"$\\langle \\partial \\theta_{1, 1} E\\rangle$ variance\")\n",
    "plt.legend()\n",
    "plt.show()"
   ]
  },
  {
   "cell_type": "code",
   "execution_count": null,
   "id": "da1eaebc",
   "metadata": {},
   "outputs": [],
   "source": []
  }
 ],
 "metadata": {
  "kernelspec": {
   "display_name": "QML2",
   "language": "python",
   "name": "qml2"
  },
  "language_info": {
   "codemirror_mode": {
    "name": "ipython",
    "version": 3
   },
   "file_extension": ".py",
   "mimetype": "text/x-python",
   "name": "python",
   "nbconvert_exporter": "python",
   "pygments_lexer": "ipython3",
   "version": "3.9.16"
  }
 },
 "nbformat": 4,
 "nbformat_minor": 5
}
